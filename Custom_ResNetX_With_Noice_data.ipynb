{
  "nbformat": 4,
  "nbformat_minor": 0,
  "metadata": {
    "colab": {
      "name": "Custom_ResNetX_with_Noice_data.ipynb",
      "provenance": [],
      "collapsed_sections": []
    },
    "kernelspec": {
      "name": "python3",
      "display_name": "Python 3"
    },
    "language_info": {
      "name": "python"
    },
    "accelerator": "GPU"
  },
  "cells": [
    {
      "cell_type": "code",
      "execution_count": null,
      "metadata": {
        "id": "jgHP8rm101JR"
      },
      "outputs": [],
      "source": [
        "#Importing Required Libraries\n",
        "import torch\n",
        "import torchvision\n",
        "import torchvision.transforms as transforms\n",
        "from torch.utils.data import random_split, DataLoader, Dataset\n",
        "import matplotlib.pyplot as plt\n",
        "from torchvision.utils import make_grid\n",
        "import torch.nn as nn"
      ]
    },
    {
      "cell_type": "code",
      "source": [
        "torch.__version__"
      ],
      "metadata": {
        "colab": {
          "base_uri": "https://localhost:8080/",
          "height": 35
        },
        "id": "zLGAbox00nJr",
        "outputId": "9e721b94-0ca5-48dd-95f2-9d490129b223"
      },
      "execution_count": null,
      "outputs": [
        {
          "output_type": "execute_result",
          "data": {
            "text/plain": [
              "'1.10.0+cu111'"
            ],
            "application/vnd.google.colaboratory.intrinsic+json": {
              "type": "string"
            }
          },
          "metadata": {},
          "execution_count": 2
        }
      ]
    },
    {
      "cell_type": "code",
      "source": [
        "#Check GPU availability\n",
        "print(torch.cuda.is_available())\n",
        "print(torch.cuda.device_count())"
      ],
      "metadata": {
        "colab": {
          "base_uri": "https://localhost:8080/"
        },
        "id": "zCZBQ6xT6m_c",
        "outputId": "f7461ab2-6b64-4547-84d2-b252bbff1e93"
      },
      "execution_count": null,
      "outputs": [
        {
          "output_type": "stream",
          "name": "stdout",
          "text": [
            "True\n",
            "1\n"
          ]
        }
      ]
    },
    {
      "cell_type": "code",
      "source": [
        "#Loader for CIFAR10 (From Avenue) with some custom changes\n",
        "import random\n",
        "import numpy as np\n",
        "from PIL import Image\n",
        "import json\n",
        "import os\n",
        "\n",
        "\n",
        "def unpickle(file):\n",
        "    import _pickle as cPickle\n",
        "    with open(file, 'rb') as fo:\n",
        "        dict = cPickle.load(fo, encoding='latin1')\n",
        "    return dict\n",
        "\n",
        "\n",
        "class cifar_dataset(Dataset):\n",
        "    def __init__(self, dataset, root_dir, transform, mode, noise_file=''):\n",
        "\n",
        "        self.transform = transform\n",
        "        self.mode = mode\n",
        "        self.transition = {0: 0, 2: 0, 4: 7, 7: 7, 1: 1, 9: 1, 3: 5, 5: 3, 6: 6,\n",
        "                           8: 8}  # class transition for asymmetric noise for cifar10\n",
        "        # generate asymmetric noise for cifar100\n",
        "        self.transition_cifar100 = {}\n",
        "        nb_superclasses = 20\n",
        "        nb_subclasses = 5\n",
        "        base = [1, 2, 3, 4, 0]\n",
        "        for i in range(nb_superclasses * nb_subclasses):\n",
        "            self.transition_cifar100[i] = int(base[i % 5] + 5 * int(i / 5))\n",
        "\n",
        "        if self.mode == 'test':\n",
        "            if dataset == 'cifar10':\n",
        "                test_dic = unpickle('%s/test_batch' % root_dir)\n",
        "                self.test_data = test_dic['data']\n",
        "                self.test_data = self.test_data.reshape((10000, 3, 32, 32))\n",
        "                self.test_data = self.test_data.transpose((0, 2, 3, 1))\n",
        "                self.test_label = test_dic['labels']\n",
        "            elif dataset == 'cifar100':\n",
        "                test_dic = unpickle('%s/test' % root_dir)\n",
        "                self.test_data = test_dic['data']\n",
        "                self.test_data = self.test_data.reshape((10000, 3, 32, 32))\n",
        "                self.test_data = self.test_data.transpose((0, 2, 3, 1))\n",
        "                self.test_label = test_dic['fine_labels']\n",
        "        else:\n",
        "            train_data = []\n",
        "            train_label = []\n",
        "            if dataset == 'cifar10':\n",
        "                for n in range(1, 6):\n",
        "                    dpath = '%s/data_batch_%d' % (root_dir, n)\n",
        "                    data_dic = unpickle(dpath)\n",
        "                    train_data.append(data_dic['data'])\n",
        "                    train_label = train_label + data_dic['labels']\n",
        "                train_data = np.concatenate(train_data)\n",
        "            elif dataset == 'cifar100':\n",
        "                train_dic = unpickle('%s/train' % root_dir)\n",
        "                train_data = train_dic['data']\n",
        "                train_label = train_dic['fine_labels']\n",
        "                # print(train_label)\n",
        "                # print(len(train_label))\n",
        "            train_data = train_data.reshape((50000, 3, 32, 32))\n",
        "            train_data = train_data.transpose((0, 2, 3, 1))\n",
        "\n",
        "            noise_label = json.load(open(noise_file, \"r\"))\n",
        "\n",
        "            if self.mode == 'train':\n",
        "                self.train_data = train_data\n",
        "                self.noise_label = noise_label\n",
        "                self.clean_label = train_label\n",
        "\n",
        "    def __getitem__(self, index):\n",
        "        if self.mode == 'train':\n",
        "            img, target = self.train_data[index], self.noise_label[index]\n",
        "            img = Image.fromarray(img)\n",
        "            img = self.transform(img)\n",
        "            return img, target, index\n",
        "        elif self.mode == 'test':\n",
        "            img, target = self.test_data[index], self.test_label[index]\n",
        "            img = Image.fromarray(img)\n",
        "            img = self.transform(img)\n",
        "            return img, target\n",
        "\n",
        "    def __len__(self):\n",
        "        if self.mode != 'test':\n",
        "            return len(self.train_data)\n",
        "        else:\n",
        "            return len(self.test_data)\n",
        "\n",
        "\n",
        "class cifar_dataloader():\n",
        "    def __init__(self, dataset, batch_size, num_workers, root_dir, noise_file=''):\n",
        "        self.dataset = dataset\n",
        "        self.batch_size = batch_size\n",
        "        self.num_workers = num_workers\n",
        "        self.root_dir = root_dir\n",
        "        self.noise_file = noise_file\n",
        "        if self.dataset == 'cifar10':\n",
        "            self.transform_train = transforms.Compose([\n",
        "                transforms.RandomCrop(32, padding=4),\n",
        "                transforms.RandomHorizontalFlip(),\n",
        "                transforms.ToTensor(),\n",
        "                transforms.Normalize((0.4914, 0.4822, 0.4465), (0.2023, 0.1994, 0.2010)),\n",
        "            ])\n",
        "            self.transform_test = transforms.Compose([\n",
        "                transforms.ToTensor(),\n",
        "                transforms.Normalize((0.4914, 0.4822, 0.4465), (0.2023, 0.1994, 0.2010)),\n",
        "            ])\n",
        "        elif self.dataset == 'cifar100':\n",
        "            self.transform_train = transforms.Compose([\n",
        "                transforms.RandomCrop(32, padding=4),\n",
        "                transforms.RandomHorizontalFlip(),\n",
        "                transforms.ToTensor(),\n",
        "                transforms.Normalize((0.507, 0.487, 0.441), (0.267, 0.256, 0.276)),\n",
        "            ])\n",
        "            self.transform_test = transforms.Compose([\n",
        "                transforms.ToTensor(),\n",
        "                transforms.Normalize((0.507, 0.487, 0.441), (0.267, 0.256, 0.276)),\n",
        "            ])\n",
        "\n",
        "    def run(self, mode):\n",
        "        if mode == 'train':\n",
        "            train_dataset = cifar_dataset(dataset=self.dataset,\n",
        "                                          root_dir=self.root_dir, transform=self.transform_train, mode=\"train\",\n",
        "                                          noise_file=self.noise_file)\n",
        "            trainloader = DataLoader(\n",
        "                dataset=train_dataset,\n",
        "                batch_size=self.batch_size,\n",
        "                shuffle=False,\n",
        "                num_workers=self.num_workers)\n",
        "            return trainloader, np.asarray(train_dataset.noise_label), np.asarray(train_dataset.clean_label)\n",
        "\n",
        "        elif mode == 'test':\n",
        "            test_dataset = cifar_dataset(dataset=self.dataset,\n",
        "                                         root_dir=self.root_dir, transform=self.transform_test, mode='test')\n",
        "            test_loader = DataLoader(\n",
        "                dataset=test_dataset,\n",
        "                batch_size=self.batch_size,\n",
        "                shuffle=False,\n",
        "                num_workers=self.num_workers)\n",
        "            return test_loader\n",
        " \n",
        "\n",
        "# test the custom loaders for CIFAR\n",
        "dataset = 'cifar10'  # either cifar10 or cifar100\n",
        "data_path = '/content/drive/MyDrive/Noice_Labels_Files'  # path to the data file (don't forget to download the feature data and also put the noisy label file under this folder)\n",
        " \n",
        "loader = cifar_dataloader(dataset, batch_size=650000,\n",
        "                          num_workers=2,\n",
        "                          root_dir=data_path,\n",
        "                          noise_file='%s/cifar10_noisy_labels_task2.json' % (data_path))"
      ],
      "metadata": {
        "id": "WIhFm2THHGQY"
      },
      "execution_count": null,
      "outputs": []
    },
    {
      "cell_type": "code",
      "source": [
        "all_trainloader, noisy_labels, clean_labels = loader.run('train')\n",
        "test_loader = loader.run('test')"
      ],
      "metadata": {
        "id": "Goa1tC0e4PjU"
      },
      "execution_count": null,
      "outputs": []
    },
    {
      "cell_type": "code",
      "source": [
        "#Validating for the custom loader code\n",
        "sum((noisy_labels == clean_labels) * 1.0)"
      ],
      "metadata": {
        "colab": {
          "base_uri": "https://localhost:8080/"
        },
        "id": "4jEYUUwYHqcV",
        "outputId": "6f050215-d3c5-43a5-b2c2-9e037d7786ce"
      },
      "execution_count": null,
      "outputs": [
        {
          "output_type": "execute_result",
          "data": {
            "text/plain": [
              "14063.0"
            ]
          },
          "metadata": {},
          "execution_count": 42
        }
      ]
    },
    {
      "cell_type": "code",
      "source": [
        "labels_from_data = []\n",
        "for images, labels, *temp in all_trainloader:\n",
        "  labels_from_data.append(labels)"
      ],
      "metadata": {
        "id": "ErVfF3EMHqkF"
      },
      "execution_count": null,
      "outputs": []
    },
    {
      "cell_type": "code",
      "source": [
        "labels_from_data[0]"
      ],
      "metadata": {
        "colab": {
          "base_uri": "https://localhost:8080/"
        },
        "id": "vJmkPDTyLaPy",
        "outputId": "fb97648d-2d03-428a-f08c-dfe7305827f0"
      },
      "execution_count": null,
      "outputs": [
        {
          "output_type": "execute_result",
          "data": {
            "text/plain": [
              "tensor([3, 5, 3,  ..., 7, 1, 7])"
            ]
          },
          "metadata": {},
          "execution_count": 44
        }
      ]
    },
    {
      "cell_type": "code",
      "source": [
        "noisy_labels"
      ],
      "metadata": {
        "colab": {
          "base_uri": "https://localhost:8080/"
        },
        "id": "FM2wLxaZLqOF",
        "outputId": "57d75263-be0f-48c5-de95-c07d6278a806"
      },
      "execution_count": null,
      "outputs": [
        {
          "output_type": "execute_result",
          "data": {
            "text/plain": [
              "array([3, 5, 3, ..., 7, 1, 7])"
            ]
          },
          "metadata": {},
          "execution_count": 45
        }
      ]
    },
    {
      "cell_type": "code",
      "source": [
        "clean_labels"
      ],
      "metadata": {
        "colab": {
          "base_uri": "https://localhost:8080/"
        },
        "id": "PUr8v4N-Lr4A",
        "outputId": "eab4943b-e7c4-4b6b-80bf-d817347d6438"
      },
      "execution_count": null,
      "outputs": [
        {
          "output_type": "execute_result",
          "data": {
            "text/plain": [
              "array([6, 9, 9, ..., 9, 1, 1])"
            ]
          },
          "metadata": {},
          "execution_count": 46
        }
      ]
    },
    {
      "cell_type": "code",
      "source": [
        "labels_from_data = labels_from_data[0].tolist()"
      ],
      "metadata": {
        "id": "RTlZAaMBK6k8"
      },
      "execution_count": null,
      "outputs": []
    },
    {
      "cell_type": "code",
      "source": [
        "sum((labels_from_data == noisy_labels) * 1.0)"
      ],
      "metadata": {
        "colab": {
          "base_uri": "https://localhost:8080/"
        },
        "id": "6oV7ASXsLW0c",
        "outputId": "fd0bd689-d751-4e07-db5e-f9d7aa7ba6f7"
      },
      "execution_count": null,
      "outputs": [
        {
          "output_type": "execute_result",
          "data": {
            "text/plain": [
              "50000.0"
            ]
          },
          "metadata": {},
          "execution_count": 50
        }
      ]
    },
    {
      "cell_type": "code",
      "source": [
        "len(noisy_labels)"
      ],
      "metadata": {
        "colab": {
          "base_uri": "https://localhost:8080/"
        },
        "id": "QkrYDQkFK1nX",
        "outputId": "0a15ef9a-f5ce-43a9-f5ae-481deb490c8a"
      },
      "execution_count": null,
      "outputs": [
        {
          "output_type": "execute_result",
          "data": {
            "text/plain": [
              "50000"
            ]
          },
          "metadata": {},
          "execution_count": 16
        }
      ]
    },
    {
      "cell_type": "code",
      "source": [
        "#Visualize the dataset\n",
        "def denormalize(images, means, stds):\n",
        "    means = torch.tensor(means).reshape(1, 3, 1, 1)\n",
        "    stds = torch.tensor(stds).reshape(1, 3, 1, 1)\n",
        "    return (images * stds) + means\n",
        "\n",
        "def show_preview(dl):\n",
        "    for images, labels, *temp in dl:\n",
        "        fig, ax = plt.subplots(figsize = (5, 5))\n",
        "        #images = denormalize(images, *data_statistics)\n",
        "        ax.imshow(make_grid(images, 5).permute(1, 2, 0))\n",
        "        print(labels)\n",
        "        #print(images.shape, labels)\n",
        "        break"
      ],
      "metadata": {
        "id": "vl5sYnWb090V"
      },
      "execution_count": null,
      "outputs": []
    },
    {
      "cell_type": "code",
      "source": [
        "#CUDA specific code\n",
        "def get_default_device():\n",
        "    return torch.device(\"cuda\") if torch.cuda.is_available() is True else torch.device(\"cpu\")\n",
        "\n",
        "def to_device(entity, device):\n",
        "    if isinstance(entity, (list, tuple)):\n",
        "        return [to_device(element, device) for element in entity]\n",
        "    return entity.to(device, non_blocking = True)\n",
        "\n",
        "class DeviceDataLoader():\n",
        "    def __init__(self, dataloader, device):\n",
        "        self.dl = dataloader\n",
        "        self.device = device\n",
        "    \n",
        "    def __iter__(self):\n",
        "        for b in self.dl:\n",
        "            yield to_device(b, self.device)\n",
        "    \n",
        "    def __len__(self):\n",
        "        return len(self.dl)\n",
        "\n",
        "\n",
        "device = get_default_device()\n",
        "train_dl = DeviceDataLoader(train_dl, device)\n",
        "val_dl = DeviceDataLoader(val_dl, device)\n",
        "test_dl = DeviceDataLoader(test_dl, device)"
      ],
      "metadata": {
        "id": "02Uodb4-1DDJ"
      },
      "execution_count": null,
      "outputs": []
    },
    {
      "cell_type": "code",
      "source": [
        "print(\"Default device: \", device)"
      ],
      "metadata": {
        "colab": {
          "base_uri": "https://localhost:8080/"
        },
        "id": "gcJjUjk-1L4c",
        "outputId": "fe94f8a3-b344-4088-a44c-8e5792ae6821"
      },
      "execution_count": null,
      "outputs": [
        {
          "output_type": "stream",
          "name": "stdout",
          "text": [
            "Default device:  cuda\n"
          ]
        }
      ]
    },
    {
      "cell_type": "code",
      "source": [
        "#Define the underlying conv block\n",
        "def conv_block(in_channels, out_channels, pooling = False):\n",
        "    layers = [nn.Conv2d(in_channels, out_channels, kernel_size = 3, padding = 1),\n",
        "    nn.BatchNorm2d(out_channels),\n",
        "    nn.ReLU(inplace = True)]\n",
        "    \n",
        "    if pooling:\n",
        "        layers.append(nn.MaxPool2d(2))\n",
        "    \n",
        "    return nn.Sequential(*layers)"
      ],
      "metadata": {
        "id": "h-zLvKlu1MuA"
      },
      "execution_count": null,
      "outputs": []
    },
    {
      "cell_type": "code",
      "source": [
        "#Define the custom ResNetX model\n",
        "class ResNetX(nn.Module):\n",
        "    def __init__(self, in_channels, num_classes):\n",
        "        super().__init__()\n",
        "\n",
        "        self.conv1 = conv_block(in_channels, 64)\n",
        "        self.conv2 = conv_block(64, 128, pooling = True)\n",
        "        self.res1 = nn.Sequential(conv_block(128, 128), conv_block(128, 128))\n",
        "\n",
        "        self.conv3 = conv_block(128, 256, pooling = True)\n",
        "        self.conv4 = conv_block(256, 512, pooling = True)\n",
        "        self.res2 = nn.Sequential(conv_block(512, 512), conv_block(512, 512))\n",
        "\n",
        "        self.classifier = nn.Sequential(nn.MaxPool2d(4),\n",
        "                                        nn.Flatten(),\n",
        "                                        nn.Dropout(0.2),\n",
        "                                        nn.Linear(512, num_classes))\n",
        "  \n",
        "    def forward(self, x):\n",
        "        out = self.conv1(x)\n",
        "        out = self.conv2(out)\n",
        "        out = self.res1(out) + out\n",
        "        out = self.conv3(out)\n",
        "        out = self.conv4(out)\n",
        "        out = self.res2(out) + out\n",
        "        return self.classifier(out)"
      ],
      "metadata": {
        "id": "XGnaLuka1PSs"
      },
      "execution_count": null,
      "outputs": []
    },
    {
      "cell_type": "code",
      "source": [
        "#Define the evaluation metrics\n",
        "def accuracy(logits, labels):\n",
        "    pred, predClassId = torch.max(logits, dim = 1)\n",
        "    return torch.tensor(torch.sum(predClassId == labels).item() / len(logits))\n",
        "\n",
        "def evaluate(model, dl, loss_func):\n",
        "  model.eval()\n",
        "  batch_losses, batch_accs = [], []\n",
        "  for images, labels, *temp in dl:\n",
        "      with torch.no_grad():\n",
        "          logits = model(images)\n",
        "      batch_losses.append(loss_func(logits, labels))\n",
        "      batch_accs.append(accuracy(logits, labels))\n",
        "  epoch_avg_loss = torch.stack(batch_losses).mean().item()\n",
        "  epoch_avg_acc = torch.stack(batch_accs).mean().item()\n",
        "  return epoch_avg_loss, epoch_avg_acc"
      ],
      "metadata": {
        "id": "87z2oeSFOrC0"
      },
      "execution_count": null,
      "outputs": []
    },
    {
      "cell_type": "code",
      "source": [
        "#Define training method\n",
        "def train(model, train_dl, val_dl, epochs, max_lr, loss_func, optim):\n",
        "    optimizer = optim(model.parameters(), max_lr)\n",
        "    scheduler = torch.optim.lr_scheduler.OneCycleLR(optimizer, max_lr, epochs * len(train_dl))\n",
        "    \n",
        "    results = []\n",
        "    \n",
        "    for epoch in range(epochs):\n",
        "        model.train()\n",
        "        train_losses = []\n",
        "        lrs = []\n",
        "        for images, labels, *temp in train_dl:\n",
        "            logits = model(images)\n",
        "            loss = loss_func(logits, labels)\n",
        "            train_losses.append(loss)\n",
        "            loss.backward()\n",
        "            optimizer.step()\n",
        "            optimizer.zero_grad()\n",
        "            lrs.append(optimizer.param_groups[0][\"lr\"])\n",
        "            scheduler.step()\n",
        "        epoch_train_loss = torch.stack(train_losses).mean().item()\n",
        "        \n",
        "        epoch_avg_loss, epoch_avg_acc = evaluate(model, val_dl, loss_func)\n",
        "        print(\"Epoch: \", epoch, \" Avg_valid_loss: \", epoch_avg_loss, \" Avg_valid_acc: \", epoch_avg_acc, \" Avg_train_loss: \", epoch_train_loss)\n",
        "        results.append({\"avg_valid_loss\": epoch_avg_loss, \"avg_valid_acc\": epoch_avg_acc, \"avg_train_loss\": epoch_train_loss})\n",
        "\n",
        "    return results"
      ],
      "metadata": {
        "id": "r0fCXeOU1RXo"
      },
      "execution_count": null,
      "outputs": []
    },
    {
      "cell_type": "code",
      "source": [
        "#Define the model parameters\n",
        "model = ResNetX(3, 10)\n",
        "model = to_device(model, device)\n",
        "epochs = 10\n",
        "max_lr = 1e-2\n",
        "loss_func = nn.functional.cross_entropy\n",
        "optim = torch.optim.Adam"
      ],
      "metadata": {
        "id": "JXi_LK0u1hCo"
      },
      "execution_count": null,
      "outputs": []
    },
    {
      "cell_type": "code",
      "source": [
        "#Training the model\n",
        "%%time\n",
        "results = train(model, train_dl, val_dl, epochs, max_lr, loss_func, optim)"
      ],
      "metadata": {
        "colab": {
          "base_uri": "https://localhost:8080/"
        },
        "id": "z_mU3N3W-buK",
        "outputId": "38a9e27f-edd2-4f97-db2f-5621a64e8754"
      },
      "execution_count": null,
      "outputs": [
        {
          "output_type": "stream",
          "name": "stdout",
          "text": [
            "Epoch:  0  Avg_valid_loss:  2.1971774101257324  Avg_valid_acc:  0.23742012679576874  Avg_train_loss:  2.31889009475708\n",
            "Epoch:  1  Avg_valid_loss:  2.0363516807556152  Avg_valid_acc:  0.32018768787384033  Avg_train_loss:  2.157763957977295\n",
            "Epoch:  2  Avg_valid_loss:  1.9768993854522705  Avg_valid_acc:  0.36601439118385315  Avg_train_loss:  2.0054869651794434\n",
            "Epoch:  3  Avg_valid_loss:  1.9189213514328003  Avg_valid_acc:  0.3937699794769287  Avg_train_loss:  1.9450265169143677\n",
            "Epoch:  4  Avg_valid_loss:  1.8908072710037231  Avg_valid_acc:  0.40505191683769226  Avg_train_loss:  1.8950566053390503\n",
            "Epoch:  5  Avg_valid_loss:  1.8176913261413574  Avg_valid_acc:  0.46305909752845764  Avg_train_loss:  1.8467284440994263\n",
            "Epoch:  6  Avg_valid_loss:  1.9320470094680786  Avg_valid_acc:  0.3855830729007721  Avg_train_loss:  1.797473430633545\n",
            "Epoch:  7  Avg_valid_loss:  1.732795238494873  Avg_valid_acc:  0.5012979507446289  Avg_train_loss:  1.7428483963012695\n",
            "Epoch:  8  Avg_valid_loss:  1.7030415534973145  Avg_valid_acc:  0.5152755379676819  Avg_train_loss:  1.6911511421203613\n",
            "Epoch:  9  Avg_valid_loss:  1.696850299835205  Avg_valid_acc:  0.5162739753723145  Avg_train_loss:  1.6623891592025757\n",
            "CPU times: user 8min 28s, sys: 3min 23s, total: 11min 51s\n",
            "Wall time: 13min 9s\n"
          ]
        }
      ]
    },
    {
      "cell_type": "code",
      "source": [
        "results"
      ],
      "metadata": {
        "colab": {
          "base_uri": "https://localhost:8080/"
        },
        "id": "Yj2jP6z6_Ao6",
        "outputId": "4c272016-5114-4988-f9c2-5e689d0926f6"
      },
      "execution_count": null,
      "outputs": [
        {
          "output_type": "execute_result",
          "data": {
            "text/plain": [
              "[{'avg_train_loss': 2.31889009475708,\n",
              "  'avg_valid_acc': 0.23742012679576874,\n",
              "  'avg_valid_loss': 2.1971774101257324},\n",
              " {'avg_train_loss': 2.157763957977295,\n",
              "  'avg_valid_acc': 0.32018768787384033,\n",
              "  'avg_valid_loss': 2.0363516807556152},\n",
              " {'avg_train_loss': 2.0054869651794434,\n",
              "  'avg_valid_acc': 0.36601439118385315,\n",
              "  'avg_valid_loss': 1.9768993854522705},\n",
              " {'avg_train_loss': 1.9450265169143677,\n",
              "  'avg_valid_acc': 0.3937699794769287,\n",
              "  'avg_valid_loss': 1.9189213514328003},\n",
              " {'avg_train_loss': 1.8950566053390503,\n",
              "  'avg_valid_acc': 0.40505191683769226,\n",
              "  'avg_valid_loss': 1.8908072710037231},\n",
              " {'avg_train_loss': 1.8467284440994263,\n",
              "  'avg_valid_acc': 0.46305909752845764,\n",
              "  'avg_valid_loss': 1.8176913261413574},\n",
              " {'avg_train_loss': 1.797473430633545,\n",
              "  'avg_valid_acc': 0.3855830729007721,\n",
              "  'avg_valid_loss': 1.9320470094680786},\n",
              " {'avg_train_loss': 1.7428483963012695,\n",
              "  'avg_valid_acc': 0.5012979507446289,\n",
              "  'avg_valid_loss': 1.732795238494873},\n",
              " {'avg_train_loss': 1.6911511421203613,\n",
              "  'avg_valid_acc': 0.5152755379676819,\n",
              "  'avg_valid_loss': 1.7030415534973145},\n",
              " {'avg_train_loss': 1.6623891592025757,\n",
              "  'avg_valid_acc': 0.5162739753723145,\n",
              "  'avg_valid_loss': 1.696850299835205}]"
            ]
          },
          "metadata": {},
          "execution_count": 97
        }
      ]
    },
    {
      "cell_type": "code",
      "source": [
        "for result in results:\n",
        "  print(result[\"avg_train_loss\"])"
      ],
      "metadata": {
        "colab": {
          "base_uri": "https://localhost:8080/"
        },
        "id": "kq8UmHPSDMEy",
        "outputId": "fee4e66b-b61c-491f-c2d1-17198704b9c6"
      },
      "execution_count": null,
      "outputs": [
        {
          "output_type": "stream",
          "name": "stdout",
          "text": [
            "2.31889009475708\n",
            "2.157763957977295\n",
            "2.0054869651794434\n",
            "1.9450265169143677\n",
            "1.8950566053390503\n",
            "1.8467284440994263\n",
            "1.797473430633545\n",
            "1.7428483963012695\n",
            "1.6911511421203613\n",
            "1.6623891592025757\n"
          ]
        }
      ]
    },
    {
      "cell_type": "code",
      "source": [
        "#Evaluate the model on testing data\n",
        "_, test_acc = evaluate(model, test_dl, loss_func)\n",
        "print(test_acc)"
      ],
      "metadata": {
        "colab": {
          "base_uri": "https://localhost:8080/"
        },
        "id": "FqHkxn-wQEc9",
        "outputId": "1013c856-be7c-4bd9-ff2e-02c82c399561"
      },
      "execution_count": null,
      "outputs": [
        {
          "output_type": "stream",
          "name": "stdout",
          "text": [
            "0.8027156591415405\n"
          ]
        }
      ]
    },
    {
      "cell_type": "code",
      "source": [
        "#Saving the model and then loading the model for verification\n",
        "torch.save(model.state_dict(), \"cifar-10-ResNetX.pth\")\n",
        "model_2 = ResNetX(3, 10)\n",
        "model_2 = to_device(model_2, device)\n",
        "_, test_acc_model_2 = evaluate(model_2, test_dl, loss_func)\n",
        "print(test_acc_model_2 )\n",
        "model_2.load_state_dict(torch.load(\"cifar-10-ResNetX.pth\"))\n",
        "_, test_acc_model_2_after_loading = evaluate(model_2, test_dl, loss_func)\n",
        "print(test_acc_model_2_after_loading )"
      ],
      "metadata": {
        "colab": {
          "base_uri": "https://localhost:8080/"
        },
        "id": "KVzPJZROOMea",
        "outputId": "5c007998-fe74-41ed-c25d-c5cd76c340b3"
      },
      "execution_count": null,
      "outputs": [
        {
          "output_type": "stream",
          "name": "stdout",
          "text": [
            "tensor(0.0857)\n",
            "tensor(0.9097)\n"
          ]
        }
      ]
    },
    {
      "cell_type": "code",
      "source": [
        "def plot(results, pairs):\n",
        "  fig, axes = plt.subplots(len(pairs), figsize = (10, 10))\n",
        "  for i, pair in enumerate(pairs):\n",
        "    for title, graphs in pair.items():\n",
        "      for graph in graphs:\n",
        "        axes[i].set_title(title)\n",
        "        axes[i].plot([result[graph] for result in results], \"r\")"
      ],
      "metadata": {
        "id": "Ew4AdG8M7k4n"
      },
      "execution_count": null,
      "outputs": []
    },
    {
      "cell_type": "code",
      "source": [
        "plot(results, [{\"Accuracies v/s Epochs\": [\"avg_valid_acc\"]}, {\"Losses v/s Epochs\": [\"avg_valid_loss\"]}])"
      ],
      "metadata": {
        "colab": {
          "base_uri": "https://localhost:8080/",
          "height": 607
        },
        "id": "KtNMgGUGZ0NK",
        "outputId": "ec1581ce-f1a2-4477-a63b-c308530c2a31"
      },
      "execution_count": null,
      "outputs": [
        {
          "output_type": "display_data",
          "data": {
            "text/plain": [
              "<Figure size 720x720 with 2 Axes>"
            ],
            "image/png": "[encoded data removed]"
          },
          "metadata": {
            "needs_background": "light"
          }
        }
      ]
    }
  ]
}
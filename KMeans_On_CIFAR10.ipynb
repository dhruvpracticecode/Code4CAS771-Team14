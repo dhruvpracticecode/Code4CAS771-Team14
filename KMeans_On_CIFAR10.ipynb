{
  "cells": [
    {
      "cell_type": "code",
      "execution_count": null,
      "metadata": {
        "id": "jgHP8rm101JR"
      },
      "outputs": [],
      "source": [
        "#DataReader\n",
        "import pickle\n",
        "import numpy as np\n",
        "from os.path import join\n",
        "from os import listdir\n",
        "import matplotlib.pyplot as plt\n",
        "from tqdm import tqdm\n",
        "import struct as st\n",
        "class DataReader:\n",
        "\n",
        "    def __init__(self,root_dir,type='cifar-100'):\n",
        "        self.root_dir = root_dir\n",
        "        self.type = type\n",
        "    \n",
        "    def get_dict_from_pickle(self):\n",
        "            self.train_dict = unpickle(join(self.root_dir,'train'))\n",
        "            self.test_dict = unpickle(join(self.root_dir,'test'))\n",
        "    \n",
        "    def get_train_data(self):\n",
        "        if self.type == 'cifar-100':\n",
        "            self.get_dict_from_pickle()\n",
        "            data = np.array(self.train_dict[b'data'])\n",
        "            lbls_sub = np.array(self.train_dict[b'fine_labels'])\n",
        "            lbls_class = np.array(self.train_dict[b'coarse_labels'])\n",
        "            return data,lbls_class,lbls_sub\n",
        "        elif self.type == 'cifar-10':\n",
        "            data = []\n",
        "            labels = []\n",
        "            print(\"Reading\")\n",
        "            for file_ in tqdm(listdir(self.root_dir)):\n",
        "                if file_.split('_')[0] == 'data':\n",
        "                    dict = unpickle(join(self.root_dir,file_))\n",
        "                    data.extend(dict[b'data'])\n",
        "                    labels.extend(dict[b'labels'])\n",
        "            return np.array(data),np.array(labels),None\n",
        "        elif self.type =='mnist':\n",
        "            return self.read_mnist()\n",
        "\n",
        "    def get_test_data(self):\n",
        "        if self.type == 'cifar-100':\n",
        "            self.get_dict_from_pickle()\n",
        "            data = np.array(self.test_dict[b'data'])\n",
        "            lbls_sub = np.array(self.test_dict[b'fine_labels'])\n",
        "            lbls_class = np.array(self.test_dict[b'coarse_labels'])\n",
        "            return data,lbls_class,lbls_sub\n",
        "        elif self.type == 'cifar-10':\n",
        "            data = np.empty(shape=(0,3072))\n",
        "            labels = []\n",
        "            for file_ in listdir(self.root_dir):\n",
        "                if file_.split('_')[0] == 'test':\n",
        "                    dict = unpickle(join(self.root_dir,file_))\n",
        "                    data = np.vstack((data,dict[b'data']))\n",
        "                    print(data[data.shape[0]-1])\n",
        "                    labels.append(dict[b'labels'])\n",
        "            return np.array(data),np.array(labels),None\n",
        "    \n",
        "    def reshape_to_plot(self,data):\n",
        "        if self.type == 'mnist':\n",
        "            return data.reshape(data.shape[0],28,28).astype(\"uint8\")\n",
        "        return data.reshape(data.shape[0],3,32,32).transpose(0,2,3,1).astype(\"uint8\")\n",
        "\n",
        "    def plot_imgs(self,in_data,n,random=False):\n",
        "        data = np.array([d for d in in_data])\n",
        "        data = self.reshape_to_plot(data)\n",
        "        x1 = min(n//2,5)\n",
        "        if x1 == 0:\n",
        "            x1 = 1\n",
        "        y1 = (n//x1)\n",
        "        x = min(x1,y1)\n",
        "        y = max(x1,y1)\n",
        "        fig, ax = plt.subplots(x,y,figsize=(5,5))\n",
        "        i=0\n",
        "        for j in range(x):\n",
        "            for k in range(y):\n",
        "                if random:\n",
        "                    i = np.random.choice(range(len(data)))\n",
        "                ax[j][k].set_axis_off()\n",
        "                ax[j][k].imshow(data[i:i+1][0])\n",
        "                i+=1\n",
        "        plt.show()\n",
        "    \n",
        "    def plot_img(self,data):\n",
        "        if self.type !='mnist':\n",
        "            assert data.shape == (3072,)\n",
        "            data = data.reshape(1,3072)\n",
        "            data = data.reshape(data.shape[0],3,32,32).transpose(0,2,3,1).astype(\"uint8\")\n",
        "        elif self.type == 'mnist':\n",
        "            assert data.shape == (28*28,)\n",
        "            data = data.reshape(1,28,28).astype('uint8')\n",
        "        fig, ax = plt.subplots(figsize=(5,5))\n",
        "        ax.imshow(data[0])\n",
        "        plt.show()\n",
        "    \n",
        "    def read_mnist(self):  \n",
        "        filename = {'images' : 'train-images-idx3-ubyte' ,'labels' : 'train-labels-idx1-ubyte'}\n",
        "        labels_array = np.array([])\n",
        "        data_types = {\n",
        "                0x08: ('ubyte', 'B', 1),\n",
        "                0x09: ('byte', 'b', 1),\n",
        "                0x0B: ('>i2', 'h', 2),\n",
        "                0x0C: ('>i4', 'i', 4),\n",
        "                0x0D: ('>f4', 'f', 4),\n",
        "                0x0E: ('>f8', 'd', 8)}\n",
        "        for name in filename.keys():\n",
        "            if name == 'images':\n",
        "                imagesfile = open(join(self.root_dir,filename[name]),'rb')\n",
        "            if name == 'labels':\n",
        "                labelsfile = open(join(self.root_dir,filename[name]),'rb')\n",
        "        imagesfile.seek(0)\n",
        "        magic = st.unpack('>4B',imagesfile.read(4))\n",
        "        if(magic[0] and magic[1])or(magic[2] not in data_types):\n",
        "            raise ValueError(\"File Format not correct\")\n",
        "        nDim = magic[3]\n",
        "        imagesfile.seek(4)\n",
        "        nImg = st.unpack('>I',imagesfile.read(4))[0] #num of images/labels\n",
        "        nR = st.unpack('>I',imagesfile.read(4))[0] #num of rows\n",
        "        nC = st.unpack('>I',imagesfile.read(4))[0] #num of columns\n",
        "        nBytes = nImg*nR*nC\n",
        "        labelsfile.seek(8) #Since no. of items = no. of images and is already read\n",
        "        images_array = 255 - np.asarray(st.unpack('>'+'B'*nBytes,imagesfile.read(nBytes))).reshape((nImg,nR,nC))\n",
        "        labels_array = np.asarray(st.unpack('>'+'B'*nImg,labelsfile.read(nImg))).reshape((nImg,1))\n",
        "        labels_array = [l[0] for l in labels_array]\n",
        "        return images_array.reshape(60000,28*28),labels_array,None\n",
        "\n",
        "\n",
        "def unpickle(file):\n",
        "    import pickle\n",
        "    with open(file, 'rb') as fo:\n",
        "        dict = pickle.load(fo, encoding='bytes')\n",
        "    return dict"
      ]
    },
    {
      "cell_type": "code",
      "execution_count": null,
      "metadata": {
        "id": "9phqG6ckhFJh"
      },
      "outputs": [],
      "source": [
        "#KMeans\n",
        "import numpy as np\n",
        "import copy\n",
        "from tqdm import tqdm\n",
        "class KMeans:\n",
        "    \n",
        "    def __init__(self,n_clusters=10,max_iter=50):\n",
        "        self.n_clusters = n_clusters\n",
        "        self.max_iter = max_iter\n",
        "        self.loss_per_iteration = []\n",
        "\n",
        "    def init_centroids(self):\n",
        "        np.random.seed(np.random.randint(0,100000))\n",
        "        self.centroids = []\n",
        "        for i in range(self.n_clusters):\n",
        "            rand_index = np.random.choice(range(len(self.fit_data)))\n",
        "            self.centroids.append(self.fit_data[rand_index])\n",
        "    \n",
        "    def init_clusters(self):\n",
        "        self.clusters = {'data':{i:[] for i in range(self.n_clusters)}}\n",
        "        self.clusters['labels']={i:[] for i in range(self.n_clusters)}\n",
        "\n",
        "    def fit(self,fit_data,fit_labels):\n",
        "        self.fit_data = fit_data\n",
        "        self.fit_labels = fit_labels\n",
        "        self.predicted_labels = [None for _ in range(self.fit_data.shape[0])]\n",
        "        self.init_centroids()\n",
        "        self.iterations = 0\n",
        "        old_centroids = [np.zeros(shape=(fit_data.shape[1],)) for _ in range(self.n_clusters)]\n",
        "        while not self.converged(self.iterations,old_centroids,self.centroids):\n",
        "            old_centroids = copy.deepcopy(self.centroids)\n",
        "            self.init_clusters()\n",
        "            for j,sample in tqdm(enumerate(self.fit_data)):\n",
        "                min_dist = float('inf')\n",
        "                for i,centroid in enumerate(self.centroids):\n",
        "                    dist = np.linalg.norm(sample-centroid)\n",
        "                    if dist<min_dist:\n",
        "                        min_dist = dist\n",
        "                        self.predicted_labels[j] = i\n",
        "                if self.predicted_labels[j] is not None:\n",
        "                        self.clusters['data'][self.predicted_labels[j]].append(sample)                    \n",
        "                        self.clusters['labels'][self.predicted_labels[j]].append(self.fit_labels[j])\n",
        "            self.reshape_cluster()\n",
        "            self.update_centroids()\n",
        "            self.calculate_loss()\n",
        "            print(\"\\nIteration:\",self.iterations,'Loss:',self.loss,'Difference:',self.centroids_dist)\n",
        "            self.iterations+=1\n",
        "        self.calculate_accuracy()\n",
        "\n",
        "    def update_centroids(self):\n",
        "        for i in range(self.n_clusters):\n",
        "            cluster = self.clusters['data'][i]\n",
        "            if cluster == []:\n",
        "                self.centroids[i] = self.fit_data[np.random.choice(range(len(self.fit_data)))]\n",
        "            else:\n",
        "                self.centroids[i] = np.mean(np.vstack((self.centroids[i],cluster)),axis=0)\n",
        "    \n",
        "    def reshape_cluster(self):\n",
        "        for id,mat in list(self.clusters['data'].items()):\n",
        "            self.clusters['data'][id] = np.array(mat)\n",
        "\n",
        "    def converged(self,iterations,centroids,updated_centroids):\n",
        "        if iterations > self.max_iter:\n",
        "            return True\n",
        "        self.centroids_dist = np.linalg.norm(np.array(updated_centroids)-np.array(centroids))\n",
        "        if self.centroids_dist<=1e-10:\n",
        "            print(\"Converged! With distance:\",self.centroids_dist)\n",
        "            return True\n",
        "        return False\n",
        "\n",
        "    def calculate_loss(self):\n",
        "        self.loss = 0\n",
        "        for key,value in list(self.clusters['data'].items()):\n",
        "            if value is not None:\n",
        "                for v in value:\n",
        "                    self.loss += np.linalg.norm(v-self.centroids[key])\n",
        "        self.loss_per_iteration.append(self.loss)\n",
        "    \n",
        "    def calculate_accuracy(self):\n",
        "        self.clusters_labels = []\n",
        "        self.clusters_info = []\n",
        "        self.clusters_accuracy = []\n",
        "        for clust,labels in list(self.clusters['labels'].items()):\n",
        "            if isinstance(labels[0],(np.ndarray)):\n",
        "                labels = [l[0] for l in labels]\n",
        "            occur = 0\n",
        "            max_label = max(set(labels), key=labels.count)\n",
        "            self.clusters_labels.append(max_label)\n",
        "            for label in labels:\n",
        "                if label == max_label:\n",
        "                    occur+=1\n",
        "            acc = occur/len(list(labels))\n",
        "            self.clusters_info.append([max_label,occur,len(list(labels)),acc])\n",
        "            self.clusters_accuracy.append(acc)\n",
        "            self.accuracy = sum(self.clusters_accuracy)/self.n_clusters\n",
        "        self.labels_ = []\n",
        "        for i in range(len(self.predicted_labels)):\n",
        "            self.labels_.append(self.clusters_labels[self.predicted_labels[i]])\n",
        "        print('[cluster_label,no_occurence_of_label,total_samples_in_cluster,cluster_accuracy]',self.clusters_info)\n",
        "        print('Accuracy:',self.accuracy)"
      ]
    },
    {
      "cell_type": "code",
      "execution_count": null,
      "metadata": {
        "colab": {
          "base_uri": "https://localhost:8080/"
        },
        "id": "vGcyIOOvhCJh",
        "outputId": "5c23e056-8f9c-4a81-f850-47d9dcef1777"
      },
      "outputs": [
        {
          "name": "stdout",
          "output_type": "stream",
          "text": [
            "--2022-04-12 20:58:54--  http://www.cs.toronto.edu/~kriz/cifar-10-python.tar.gz\n",
            "Resolving www.cs.toronto.edu (www.cs.toronto.edu)... 128.100.3.30\n",
            "Connecting to www.cs.toronto.edu (www.cs.toronto.edu)|128.100.3.30|:80... connected.\n",
            "HTTP request sent, awaiting response... 200 OK\n",
            "Length: 170498071 (163M) [application/x-gzip]\n",
            "Saving to: ‘cifar-10-python.tar.gz.2’\n",
            "\n",
            "cifar-10-python.tar 100%[===================>] 162.60M  52.4MB/s    in 3.1s    \n",
            "\n",
            "2022-04-12 20:58:58 (52.4 MB/s) - ‘cifar-10-python.tar.gz.2’ saved [170498071/170498071]\n",
            "\n"
          ]
        }
      ],
      "source": [
        "!wget 'http://www.cs.toronto.edu/~kriz/cifar-10-python.tar.gz'\n",
        "#!wget 'http://www.cs.toronto.edu/~kriz/cifar-100-python.tar.gz'\n",
        "!tar xzf cifar-10-python.tar.gz\n",
        "#!tar xzf cifar-100-python.tar.gz"
      ]
    },
    {
      "cell_type": "code",
      "execution_count": null,
      "metadata": {
        "id": "eka5SHV3hYCH"
      },
      "outputs": [],
      "source": [
        "import os\n",
        "import matplotlib.pyplot as plt\n",
        "import numpy as np"
      ]
    },
    {
      "cell_type": "code",
      "execution_count": null,
      "metadata": {
        "colab": {
          "base_uri": "https://localhost:8080/",
          "height": 338
        },
        "id": "zCZBQ6xT6m_c",
        "outputId": "53b7da66-4771-4094-e21f-45a7e3b666c5"
      },
      "outputs": [
        {
          "name": "stdout",
          "output_type": "stream",
          "text": [
            "Reading\n"
          ]
        },
        {
          "name": "stderr",
          "output_type": "stream",
          "text": [
            "100%|██████████| 8/8 [00:00<00:00, 59.75it/s]\n"
          ]
        },
        {
          "data": {
            "image/png": "[encoded data removed]",
            "text/plain": [
              "<Figure size 360x360 with 25 Axes>"
            ]
          },
          "metadata": {},
          "output_type": "display_data"
        }
      ],
      "source": [
        "data_reader = DataReader('cifar-10-batches-py','cifar-10')\n",
        "tr_data, tr_class_labels, tr_subclass_labels = data_reader.get_train_data()\n",
        "data_reader.plot_imgs(tr_data,25,True)"
      ]
    },
    {
      "cell_type": "code",
      "execution_count": null,
      "metadata": {
        "colab": {
          "background_save": true,
          "base_uri": "https://localhost:8080/"
        },
        "id": "NWoYK7g704hX",
        "outputId": "cacdaecd-37f0-4bfc-a276-f1262f03662c"
      },
      "outputs": [
        {
          "name": "stderr",
          "output_type": "stream",
          "text": [
            "50000it [00:06, 7953.11it/s]\n",
            "/usr/local/lib/python3.7/dist-packages/ipykernel_launcher.py:53: DeprecationWarning: elementwise comparison failed; this will raise an error in the future.\n"
          ]
        },
        {
          "name": "stdout",
          "output_type": "stream",
          "text": [
            "\n",
            "Iteration: 0 Loss: 154645765.77862346 Difference: 23377.180582782006\n"
          ]
        },
        {
          "name": "stderr",
          "output_type": "stream",
          "text": [
            "50000it [00:07, 6488.96it/s]\n"
          ]
        },
        {
          "name": "stdout",
          "output_type": "stream",
          "text": [
            "\n",
            "Iteration: 1 Loss: 139863791.36519876 Difference: 11884.27697812837\n"
          ]
        },
        {
          "name": "stderr",
          "output_type": "stream",
          "text": [
            "50000it [00:07, 6328.76it/s]\n"
          ]
        },
        {
          "name": "stdout",
          "output_type": "stream",
          "text": [
            "\n",
            "Iteration: 2 Loss: 138000124.14191347 Difference: 2200.2435596709656\n"
          ]
        },
        {
          "name": "stderr",
          "output_type": "stream",
          "text": [
            "50000it [00:07, 6455.76it/s]\n"
          ]
        },
        {
          "name": "stdout",
          "output_type": "stream",
          "text": [
            "\n",
            "Iteration: 3 Loss: 137443429.03690812 Difference: 859.8532973494359\n"
          ]
        },
        {
          "name": "stderr",
          "output_type": "stream",
          "text": [
            "50000it [00:07, 6412.59it/s]\n"
          ]
        },
        {
          "name": "stdout",
          "output_type": "stream",
          "text": [
            "\n",
            "Iteration: 4 Loss: 137206220.45288888 Difference: 517.4991732326074\n"
          ]
        },
        {
          "name": "stderr",
          "output_type": "stream",
          "text": [
            "50000it [00:07, 6345.21it/s]\n"
          ]
        },
        {
          "name": "stdout",
          "output_type": "stream",
          "text": [
            "\n",
            "Iteration: 5 Loss: 137085686.2355062 Difference: 346.1891709360472\n"
          ]
        },
        {
          "name": "stderr",
          "output_type": "stream",
          "text": [
            "50000it [00:07, 6364.60it/s]\n"
          ]
        },
        {
          "name": "stdout",
          "output_type": "stream",
          "text": [
            "\n",
            "Iteration: 6 Loss: 137016425.34562075 Difference: 251.58643771477853\n"
          ]
        },
        {
          "name": "stderr",
          "output_type": "stream",
          "text": [
            "50000it [00:07, 6439.59it/s]\n"
          ]
        },
        {
          "name": "stdout",
          "output_type": "stream",
          "text": [
            "\n",
            "Iteration: 7 Loss: 136969687.93310633 Difference: 199.8443005608937\n"
          ]
        },
        {
          "name": "stderr",
          "output_type": "stream",
          "text": [
            "50000it [00:07, 6327.69it/s]\n"
          ]
        },
        {
          "name": "stdout",
          "output_type": "stream",
          "text": [
            "\n",
            "Iteration: 8 Loss: 136935500.3878605 Difference: 167.43656384422138\n"
          ]
        },
        {
          "name": "stderr",
          "output_type": "stream",
          "text": [
            "50000it [00:07, 6439.41it/s]\n"
          ]
        },
        {
          "name": "stdout",
          "output_type": "stream",
          "text": [
            "\n",
            "Iteration: 9 Loss: 136910276.31900758 Difference: 142.74692303176923\n"
          ]
        },
        {
          "name": "stderr",
          "output_type": "stream",
          "text": [
            "50000it [00:07, 6368.74it/s]\n"
          ]
        },
        {
          "name": "stdout",
          "output_type": "stream",
          "text": [
            "\n",
            "Iteration: 10 Loss: 136890623.15323833 Difference: 126.31284191703169\n"
          ]
        },
        {
          "name": "stderr",
          "output_type": "stream",
          "text": [
            "50000it [00:07, 6351.09it/s]\n"
          ]
        },
        {
          "name": "stdout",
          "output_type": "stream",
          "text": [
            "\n",
            "Iteration: 11 Loss: 136877507.09806326 Difference: 110.46899523429553\n"
          ]
        },
        {
          "name": "stderr",
          "output_type": "stream",
          "text": [
            "50000it [00:07, 6419.86it/s]\n"
          ]
        },
        {
          "name": "stdout",
          "output_type": "stream",
          "text": [
            "\n",
            "Iteration: 12 Loss: 136866381.3689529 Difference: 91.14268435578781\n"
          ]
        },
        {
          "name": "stderr",
          "output_type": "stream",
          "text": [
            "50000it [00:07, 6587.60it/s]\n"
          ]
        },
        {
          "name": "stdout",
          "output_type": "stream",
          "text": [
            "\n",
            "Iteration: 13 Loss: 136857248.4553787 Difference: 90.57279574983909\n"
          ]
        },
        {
          "name": "stderr",
          "output_type": "stream",
          "text": [
            "50000it [00:07, 6421.88it/s]\n"
          ]
        },
        {
          "name": "stdout",
          "output_type": "stream",
          "text": [
            "\n",
            "Iteration: 14 Loss: 136851050.53003395 Difference: 77.8719318210872\n"
          ]
        },
        {
          "name": "stderr",
          "output_type": "stream",
          "text": [
            "50000it [00:07, 6475.71it/s]\n"
          ]
        },
        {
          "name": "stdout",
          "output_type": "stream",
          "text": [
            "\n",
            "Iteration: 15 Loss: 136846383.83955556 Difference: 67.39031592926231\n"
          ]
        },
        {
          "name": "stderr",
          "output_type": "stream",
          "text": [
            "50000it [00:07, 6450.90it/s]\n"
          ]
        },
        {
          "name": "stdout",
          "output_type": "stream",
          "text": [
            "\n",
            "Iteration: 16 Loss: 136842731.29499257 Difference: 60.429251758820484\n"
          ]
        },
        {
          "name": "stderr",
          "output_type": "stream",
          "text": [
            "50000it [00:07, 6422.35it/s]\n"
          ]
        },
        {
          "name": "stdout",
          "output_type": "stream",
          "text": [
            "\n",
            "Iteration: 17 Loss: 136839728.1004649 Difference: 58.441037475898575\n"
          ]
        },
        {
          "name": "stderr",
          "output_type": "stream",
          "text": [
            "50000it [00:07, 6347.47it/s]\n"
          ]
        },
        {
          "name": "stdout",
          "output_type": "stream",
          "text": [
            "\n",
            "Iteration: 18 Loss: 136836503.4775775 Difference: 57.863288842588595\n"
          ]
        },
        {
          "name": "stderr",
          "output_type": "stream",
          "text": [
            "50000it [00:08, 6189.02it/s]\n"
          ]
        },
        {
          "name": "stdout",
          "output_type": "stream",
          "text": [
            "\n",
            "Iteration: 19 Loss: 136833383.1801517 Difference: 58.32108980615033\n"
          ]
        },
        {
          "name": "stderr",
          "output_type": "stream",
          "text": [
            "50000it [00:07, 6358.17it/s]\n"
          ]
        },
        {
          "name": "stdout",
          "output_type": "stream",
          "text": [
            "\n",
            "Iteration: 20 Loss: 136831024.61335778 Difference: 57.0350629991146\n"
          ]
        },
        {
          "name": "stderr",
          "output_type": "stream",
          "text": [
            "50000it [00:07, 6358.26it/s]\n"
          ]
        },
        {
          "name": "stdout",
          "output_type": "stream",
          "text": [
            "\n",
            "Iteration: 21 Loss: 136829491.67843747 Difference: 52.676115177701284\n"
          ]
        },
        {
          "name": "stderr",
          "output_type": "stream",
          "text": [
            "50000it [00:07, 6295.38it/s]\n"
          ]
        },
        {
          "name": "stdout",
          "output_type": "stream",
          "text": [
            "\n",
            "Iteration: 22 Loss: 136828285.1631616 Difference: 48.20509352925947\n"
          ]
        },
        {
          "name": "stderr",
          "output_type": "stream",
          "text": [
            "50000it [00:07, 6405.14it/s]\n"
          ]
        },
        {
          "name": "stdout",
          "output_type": "stream",
          "text": [
            "\n",
            "Iteration: 23 Loss: 136827766.4424762 Difference: 42.72410132346943\n"
          ]
        },
        {
          "name": "stderr",
          "output_type": "stream",
          "text": [
            "50000it [00:07, 6405.00it/s]\n"
          ]
        },
        {
          "name": "stdout",
          "output_type": "stream",
          "text": [
            "\n",
            "Iteration: 24 Loss: 136826038.3966493 Difference: 40.33200006182973\n"
          ]
        },
        {
          "name": "stderr",
          "output_type": "stream",
          "text": [
            "50000it [00:08, 6214.61it/s]\n"
          ]
        },
        {
          "name": "stdout",
          "output_type": "stream",
          "text": [
            "\n",
            "Iteration: 25 Loss: 136823964.80951697 Difference: 41.42036749616997\n"
          ]
        },
        {
          "name": "stderr",
          "output_type": "stream",
          "text": [
            "50000it [00:08, 6238.11it/s]\n"
          ]
        },
        {
          "name": "stdout",
          "output_type": "stream",
          "text": [
            "\n",
            "Iteration: 26 Loss: 136821560.56930947 Difference: 44.934693199986086\n"
          ]
        },
        {
          "name": "stderr",
          "output_type": "stream",
          "text": [
            "50000it [00:07, 6306.48it/s]\n"
          ]
        },
        {
          "name": "stdout",
          "output_type": "stream",
          "text": [
            "\n",
            "Iteration: 27 Loss: 136819520.1060674 Difference: 48.150415003907256\n"
          ]
        },
        {
          "name": "stderr",
          "output_type": "stream",
          "text": [
            "50000it [00:08, 6227.59it/s]\n"
          ]
        },
        {
          "name": "stdout",
          "output_type": "stream",
          "text": [
            "\n",
            "Iteration: 28 Loss: 136817635.1187806 Difference: 42.782720411603044\n"
          ]
        },
        {
          "name": "stderr",
          "output_type": "stream",
          "text": [
            "50000it [00:07, 6291.95it/s]\n"
          ]
        },
        {
          "name": "stdout",
          "output_type": "stream",
          "text": [
            "\n",
            "Iteration: 29 Loss: 136815385.76402488 Difference: 45.07361290002784\n"
          ]
        },
        {
          "name": "stderr",
          "output_type": "stream",
          "text": [
            "50000it [00:07, 6333.92it/s]\n"
          ]
        },
        {
          "name": "stdout",
          "output_type": "stream",
          "text": [
            "\n",
            "Iteration: 30 Loss: 136812364.55186015 Difference: 48.99675873308986\n"
          ]
        },
        {
          "name": "stderr",
          "output_type": "stream",
          "text": [
            "50000it [00:07, 6277.66it/s]\n"
          ]
        },
        {
          "name": "stdout",
          "output_type": "stream",
          "text": [
            "\n",
            "Iteration: 31 Loss: 136809360.40273517 Difference: 54.07981392530316\n"
          ]
        },
        {
          "name": "stderr",
          "output_type": "stream",
          "text": [
            "50000it [00:07, 6346.24it/s]\n"
          ]
        },
        {
          "name": "stdout",
          "output_type": "stream",
          "text": [
            "\n",
            "Iteration: 32 Loss: 136805023.89564663 Difference: 55.98976110347904\n"
          ]
        },
        {
          "name": "stderr",
          "output_type": "stream",
          "text": [
            "50000it [00:07, 6343.57it/s]\n"
          ]
        },
        {
          "name": "stdout",
          "output_type": "stream",
          "text": [
            "\n",
            "Iteration: 33 Loss: 136800535.9589174 Difference: 57.90211897498173\n"
          ]
        },
        {
          "name": "stderr",
          "output_type": "stream",
          "text": [
            "50000it [00:07, 6326.75it/s]\n"
          ]
        },
        {
          "name": "stdout",
          "output_type": "stream",
          "text": [
            "\n",
            "Iteration: 34 Loss: 136796323.9303641 Difference: 56.57752451377817\n"
          ]
        },
        {
          "name": "stderr",
          "output_type": "stream",
          "text": [
            "50000it [00:07, 6288.36it/s]\n"
          ]
        },
        {
          "name": "stdout",
          "output_type": "stream",
          "text": [
            "\n",
            "Iteration: 35 Loss: 136792739.56780678 Difference: 54.36323845524022\n"
          ]
        },
        {
          "name": "stderr",
          "output_type": "stream",
          "text": [
            "50000it [00:07, 6384.56it/s]\n"
          ]
        },
        {
          "name": "stdout",
          "output_type": "stream",
          "text": [
            "\n",
            "Iteration: 36 Loss: 136788971.09342235 Difference: 56.927552061594724\n"
          ]
        },
        {
          "name": "stderr",
          "output_type": "stream",
          "text": [
            "50000it [00:08, 6247.23it/s]\n"
          ]
        },
        {
          "name": "stdout",
          "output_type": "stream",
          "text": [
            "\n",
            "Iteration: 37 Loss: 136784620.8876052 Difference: 56.0550708753321\n"
          ]
        },
        {
          "name": "stderr",
          "output_type": "stream",
          "text": [
            "50000it [00:07, 6311.13it/s]\n"
          ]
        },
        {
          "name": "stdout",
          "output_type": "stream",
          "text": [
            "\n",
            "Iteration: 38 Loss: 136780670.07267776 Difference: 58.99758963227255\n"
          ]
        },
        {
          "name": "stderr",
          "output_type": "stream",
          "text": [
            "50000it [00:07, 6380.09it/s]\n"
          ]
        },
        {
          "name": "stdout",
          "output_type": "stream",
          "text": [
            "\n",
            "Iteration: 39 Loss: 136778605.2871052 Difference: 51.61329899844071\n"
          ]
        },
        {
          "name": "stderr",
          "output_type": "stream",
          "text": [
            "50000it [00:08, 6141.33it/s]\n"
          ]
        },
        {
          "name": "stdout",
          "output_type": "stream",
          "text": [
            "\n",
            "Iteration: 40 Loss: 136776243.93922684 Difference: 43.943573841924874\n"
          ]
        },
        {
          "name": "stderr",
          "output_type": "stream",
          "text": [
            "50000it [00:07, 6348.82it/s]\n"
          ]
        },
        {
          "name": "stdout",
          "output_type": "stream",
          "text": [
            "\n",
            "Iteration: 41 Loss: 136774326.68706205 Difference: 42.62378018815666\n"
          ]
        },
        {
          "name": "stderr",
          "output_type": "stream",
          "text": [
            "50000it [00:07, 6300.92it/s]\n"
          ]
        },
        {
          "name": "stdout",
          "output_type": "stream",
          "text": [
            "\n",
            "Iteration: 42 Loss: 136772341.23839754 Difference: 37.932419889020714\n"
          ]
        },
        {
          "name": "stderr",
          "output_type": "stream",
          "text": [
            "50000it [00:07, 6365.15it/s]\n"
          ]
        },
        {
          "name": "stdout",
          "output_type": "stream",
          "text": [
            "\n",
            "Iteration: 43 Loss: 136770520.6189174 Difference: 35.39508787533067\n"
          ]
        },
        {
          "name": "stderr",
          "output_type": "stream",
          "text": [
            "50000it [00:07, 6611.45it/s]\n"
          ]
        },
        {
          "name": "stdout",
          "output_type": "stream",
          "text": [
            "\n",
            "Iteration: 44 Loss: 136769097.209286 Difference: 36.31894518062049\n"
          ]
        },
        {
          "name": "stderr",
          "output_type": "stream",
          "text": [
            "50000it [00:07, 6666.48it/s]\n"
          ]
        },
        {
          "name": "stdout",
          "output_type": "stream",
          "text": [
            "\n",
            "Iteration: 45 Loss: 136768060.6868495 Difference: 28.136528471757174\n"
          ]
        },
        {
          "name": "stderr",
          "output_type": "stream",
          "text": [
            "50000it [00:07, 6667.07it/s]\n"
          ]
        },
        {
          "name": "stdout",
          "output_type": "stream",
          "text": [
            "\n",
            "Iteration: 46 Loss: 136767311.11531654 Difference: 25.15083288488031\n"
          ]
        },
        {
          "name": "stderr",
          "output_type": "stream",
          "text": [
            "50000it [00:07, 6755.89it/s]\n"
          ]
        },
        {
          "name": "stdout",
          "output_type": "stream",
          "text": [
            "\n",
            "Iteration: 47 Loss: 136766253.91275272 Difference: 24.83292382328458\n"
          ]
        },
        {
          "name": "stderr",
          "output_type": "stream",
          "text": [
            "50000it [00:07, 6737.01it/s]\n"
          ]
        },
        {
          "name": "stdout",
          "output_type": "stream",
          "text": [
            "\n",
            "Iteration: 48 Loss: 136765600.41155803 Difference: 26.24320317676359\n"
          ]
        },
        {
          "name": "stderr",
          "output_type": "stream",
          "text": [
            "50000it [00:07, 6729.78it/s]\n"
          ]
        },
        {
          "name": "stdout",
          "output_type": "stream",
          "text": [
            "\n",
            "Iteration: 49 Loss: 136764342.58452082 Difference: 23.379749517235787\n"
          ]
        },
        {
          "name": "stderr",
          "output_type": "stream",
          "text": [
            "50000it [00:07, 6730.65it/s]\n"
          ]
        },
        {
          "name": "stdout",
          "output_type": "stream",
          "text": [
            "\n",
            "Iteration: 50 Loss: 136762859.10586318 Difference: 23.036245340241244\n",
            "[cluster_label,no_occurence_of_label,total_samples_in_cluster,cluster_accuracy] [[8, 1328, 3925, 0.338343949044586], [0, 1072, 3276, 0.32722832722832723], [5, 950, 5305, 0.17907634307257306], [6, 1222, 7321, 0.1669170878295315], [6, 1199, 5369, 0.2233190538275284], [2, 1080, 6394, 0.16890835157960588], [4, 895, 4572, 0.1957567804024497], [9, 1659, 6006, 0.2762237762237762], [0, 1082, 3748, 0.2886872998932764], [9, 761, 4084, 0.18633692458374143]]\n",
            "Accuracy: 0.2350797893685396\n"
          ]
        }
      ],
      "source": [
        "kmeans = KMeans(n_clusters=10,max_iter=100)\n",
        "kmeans.fit(tr_data,tr_class_labels)"
      ]
    }
  ],
  "metadata": {
    "accelerator": "GPU",
    "colab": {
      "collapsed_sections": [],
      "name": "KMeans_On_CIFAR10.ipynb",
      "provenance": []
    },
    "kernelspec": {
      "display_name": "Python 3",
      "name": "python3"
    },
    "language_info": {
      "name": "python"
    }
  },
  "nbformat": 4,
  "nbformat_minor": 0
}